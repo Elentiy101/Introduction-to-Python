{
 "cells": [
  {
   "cell_type": "markdown",
   "metadata": {},
   "source": [
    "**Content**: This Jupyter notebook provides code examples for the Boolean Algebra from Section 2.2 of the lecture. \n",
    "\n",
    "**Remark on the use of the print() function:** Effects of assignments, operations, functions, etc. are not visible. Accordingly, we use the print() function to see effects in the following."
   ]
  },
  {
   "cell_type": "markdown",
   "metadata": {},
   "source": [
    "# Boolean Operators"
   ]
  },
  {
   "cell_type": "markdown",
   "metadata": {},
   "source": [
    "One fundamental concept for computers are logical operators, aka Boolean operators. Those elements are the fundamentals of conditions. Boolean variables can be `True`, `False` or `None` (for undefined in Python)."
   ]
  },
  {
   "cell_type": "code",
   "execution_count": 1,
   "metadata": {},
   "outputs": [
    {
     "name": "stdout",
     "output_type": "stream",
     "text": [
      "True\n",
      "0\n"
     ]
    }
   ],
   "source": [
    "print(True)\n",
    "print(int(False)) # True is interpreted as 1, False as 0"
   ]
  },
  {
   "cell_type": "code",
   "execution_count": 6,
   "metadata": {
    "scrolled": true
   },
   "outputs": [
    {
     "name": "stdout",
     "output_type": "stream",
     "text": [
      "True\n",
      "False\n",
      "True\n",
      "False\n"
     ]
    }
   ],
   "source": [
    "print(5<6) # also <= possible\n",
    "print(5>6) # also >= possible\n",
    "print(5!=6)\n",
    "print(5==6)"
   ]
  },
  {
   "cell_type": "code",
   "execution_count": 1,
   "metadata": {},
   "outputs": [
    {
     "name": "stdout",
     "output_type": "stream",
     "text": [
      "False\n"
     ]
    }
   ],
   "source": [
    "a = 2 + 3 * 4 + 0 < 1\n",
    "print(a)"
   ]
  },
  {
   "cell_type": "code",
   "execution_count": 2,
   "metadata": {},
   "outputs": [
    {
     "name": "stdout",
     "output_type": "stream",
     "text": [
      "15\n"
     ]
    }
   ],
   "source": [
    "a = 2 + 3 * 4 + (0 < 1)\n",
    "print(a)"
   ]
  },
  {
   "cell_type": "code",
   "execution_count": 7,
   "metadata": {},
   "outputs": [
    {
     "name": "stdout",
     "output_type": "stream",
     "text": [
      "True\n",
      "False\n",
      "False\n"
     ]
    }
   ],
   "source": [
    "word = \"FoodInformatics\" # works also with Strings\n",
    "print(word == \"FoodInformatics\")\n",
    "print(word == \"BioTechnology\")\n",
    "print(word == \"foodInformatics\")"
   ]
  },
  {
   "cell_type": "markdown",
   "metadata": {},
   "source": [
    "Several logical terms can be combined with the logical operators `and`, `or`, and `not`."
   ]
  },
  {
   "cell_type": "code",
   "execution_count": 4,
   "metadata": {},
   "outputs": [
    {
     "name": "stdout",
     "output_type": "stream",
     "text": [
      "True\n",
      "False\n",
      "False\n",
      "True\n"
     ]
    }
   ],
   "source": [
    "print(5<6)\n",
    "print(not(5<6))\n",
    "print(5<6 and 5>6) # 5<6 -> True; 5>6 -> False => True and False => evaluate to False\n",
    "print(5<6 or 5>6) # 5<6 -> True; 5>6 -> False => True or False => evaluate to True"
   ]
  },
  {
   "cell_type": "code",
   "execution_count": 8,
   "metadata": {},
   "outputs": [
    {
     "name": "stdout",
     "output_type": "stream",
     "text": [
      "0b100000\n",
      "0b1100110\n",
      "0b1000110\n"
     ]
    }
   ],
   "source": [
    "a=int('01100000', 2)\n",
    "b=int('00100110', 2)\n",
    "\n",
    "print(bin(a & b)) # bit-wise AND connection. omits leading zeros\n",
    "print(bin(a | b)) # bit-wise OR connection\n",
    "print(bin(a ^ b)) # bit-wise XOR connection"
   ]
  },
  {
   "cell_type": "code",
   "execution_count": 9,
   "metadata": {},
   "outputs": [
    {
     "name": "stdout",
     "output_type": "stream",
     "text": [
      "False & False: False\n",
      "True & False: False\n",
      "False & True: False\n",
      "True & True: True\n"
     ]
    }
   ],
   "source": [
    "#a & b\n",
    "\n",
    "print(\"False & False: \" + str(False & False))\n",
    "print(\"True & False: \" + str(True & False))\n",
    "print(\"False & True: \" + str(False & True))\n",
    "print(\"True & True: \" + str(True & True))"
   ]
  },
  {
   "cell_type": "code",
   "execution_count": 8,
   "metadata": {},
   "outputs": [
    {
     "name": "stdout",
     "output_type": "stream",
     "text": [
      "False | False: False\n",
      "True | False: True\n",
      "False | True: True\n",
      "True | True: True\n"
     ]
    }
   ],
   "source": [
    "#a | b\n",
    "\n",
    "print(\"False | False: \" + str(False | False))\n",
    "print(\"True | False: \" + str(True | False))\n",
    "print(\"False | True: \" + str(False | True))\n",
    "print(\"True | True: \" + str(True | True))"
   ]
  },
  {
   "cell_type": "code",
   "execution_count": 7,
   "metadata": {},
   "outputs": [
    {
     "name": "stdout",
     "output_type": "stream",
     "text": [
      "False | False: False\n",
      "True | False: True\n",
      "False | True: True\n",
      "True | True: False\n"
     ]
    }
   ],
   "source": [
    "#a ^ b\n",
    "\n",
    "print(\"False | False: \" + str(False ^ False))\n",
    "print(\"True | False: \" + str(True ^ False))\n",
    "print(\"False | True: \" + str(False ^ True))\n",
    "print(\"True | True: \" + str(True ^ True))"
   ]
  }
 ],
 "metadata": {
  "kernelspec": {
   "display_name": "Python 3",
   "language": "python",
   "name": "python3"
  },
  "language_info": {
   "codemirror_mode": {
    "name": "ipython",
    "version": 3
   },
   "file_extension": ".py",
   "mimetype": "text/x-python",
   "name": "python",
   "nbconvert_exporter": "python",
   "pygments_lexer": "ipython3",
   "version": "3.7.6"
  }
 },
 "nbformat": 4,
 "nbformat_minor": 4
}
