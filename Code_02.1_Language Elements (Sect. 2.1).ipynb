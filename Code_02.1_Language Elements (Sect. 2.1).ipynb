{
 "cells": [
  {
   "cell_type": "markdown",
   "metadata": {},
   "source": [
    "**Content**: This Jupyter notebook provides code examples for the basic operators from Section 2.1 of the lecture. \n",
    "\n",
    "**Remark on the use of the print() function:** Effects of assignments, operations, functions, etc. are not visible. Accordingly, we use the print() function to see effects in the following."
   ]
  },
  {
   "cell_type": "markdown",
   "metadata": {},
   "source": [
    "# Expressions and Operators"
   ]
  },
  {
   "cell_type": "markdown",
   "metadata": {},
   "source": [
    "Typically, the very first program for every programming language is to say hello."
   ]
  },
  {
   "cell_type": "code",
   "execution_count": 4,
   "metadata": {},
   "outputs": [
    {
     "name": "stdout",
     "output_type": "stream",
     "text": [
      "Hello World\n"
     ]
    }
   ],
   "source": [
    "print('Hello World')"
   ]
  },
  {
   "cell_type": "markdown",
   "metadata": {},
   "source": [
    "The very basic statement is the assigment with the `=` operator."
   ]
  },
  {
   "cell_type": "code",
   "execution_count": 5,
   "metadata": {},
   "outputs": [
    {
     "name": "stdout",
     "output_type": "stream",
     "text": [
      "Hello World\n"
     ]
    }
   ],
   "source": [
    "hello_text = \"Hello World\"\n",
    "print(hello_text)"
   ]
  },
  {
   "cell_type": "markdown",
   "metadata": {},
   "source": [
    "Remeber, Python is case sensitivity. Hence, the following statements does not work as the variables in print are seen as different (non)-existing variables. "
   ]
  },
  {
   "cell_type": "code",
   "execution_count": 6,
   "metadata": {},
   "outputs": [
    {
     "name": "stdout",
     "output_type": "stream",
     "text": [
      "Hello World\n"
     ]
    },
    {
     "ename": "NameError",
     "evalue": "name 'Hello_text' is not defined",
     "output_type": "error",
     "traceback": [
      "\u001b[1;31m---------------------------------------------------------------------------\u001b[0m",
      "\u001b[1;31mNameError\u001b[0m                                 Traceback (most recent call last)",
      "\u001b[1;32m<ipython-input-6-fc90aad25dce>\u001b[0m in \u001b[0;36m<module>\u001b[1;34m\u001b[0m\n\u001b[0;32m      1\u001b[0m \u001b[0mprint\u001b[0m\u001b[1;33m(\u001b[0m\u001b[0mhello_text\u001b[0m\u001b[1;33m)\u001b[0m\u001b[1;33m\u001b[0m\u001b[1;33m\u001b[0m\u001b[0m\n\u001b[1;32m----> 2\u001b[1;33m \u001b[0mprint\u001b[0m\u001b[1;33m(\u001b[0m\u001b[0mHello_text\u001b[0m\u001b[1;33m)\u001b[0m\u001b[1;33m\u001b[0m\u001b[1;33m\u001b[0m\u001b[0m\n\u001b[0m\u001b[0;32m      3\u001b[0m \u001b[0mprint\u001b[0m\u001b[1;33m(\u001b[0m\u001b[0mHELLO_TEXT\u001b[0m\u001b[1;33m)\u001b[0m\u001b[1;33m\u001b[0m\u001b[1;33m\u001b[0m\u001b[0m\n",
      "\u001b[1;31mNameError\u001b[0m: name 'Hello_text' is not defined"
     ]
    }
   ],
   "source": [
    "print(hello_text) \n",
    "print(Hello_text) \n",
    "print(HELLO_TEXT) "
   ]
  },
  {
   "cell_type": "markdown",
   "metadata": {},
   "source": [
    "Python is very suitable for mathemical operations. Let's start with addition and subtraction"
   ]
  },
  {
   "cell_type": "code",
   "execution_count": 7,
   "metadata": {},
   "outputs": [
    {
     "name": "stdout",
     "output_type": "stream",
     "text": [
      "10\n"
     ]
    }
   ],
   "source": [
    "x=8+2 # a variable (here: 'x') can store a number or a result of a calculation\n",
    "print(x)"
   ]
  },
  {
   "cell_type": "code",
   "execution_count": 8,
   "metadata": {},
   "outputs": [
    {
     "name": "stdout",
     "output_type": "stream",
     "text": [
      "8\n"
     ]
    }
   ],
   "source": [
    "x=x-2 # we can also calculate using variables\n",
    "print(x)"
   ]
  },
  {
   "cell_type": "markdown",
   "metadata": {},
   "source": [
    "The shortcut operator works for all arithmetic operators."
   ]
  },
  {
   "cell_type": "code",
   "execution_count": 9,
   "metadata": {},
   "outputs": [
    {
     "name": "stdout",
     "output_type": "stream",
     "text": [
      "3\n"
     ]
    }
   ],
   "source": [
    "x = 2\n",
    "x+=1 # this is a shorter way to combine an operator and an assignment\n",
    "print(x)"
   ]
  },
  {
   "cell_type": "markdown",
   "metadata": {},
   "source": [
    "We continue with the multiplication and division operators."
   ]
  },
  {
   "cell_type": "code",
   "execution_count": 10,
   "metadata": {},
   "outputs": [
    {
     "name": "stdout",
     "output_type": "stream",
     "text": [
      "16\n",
      "16.0\n"
     ]
    }
   ],
   "source": [
    "print(8*2)\n",
    "print(8*2.0) # Note the different types of the result - integer versus float"
   ]
  },
  {
   "cell_type": "code",
   "execution_count": 11,
   "metadata": {},
   "outputs": [
    {
     "name": "stdout",
     "output_type": "stream",
     "text": [
      "3.5\n",
      "3\n",
      "1\n"
     ]
    }
   ],
   "source": [
    "print(7/2) # normal division -> floating point as result\n",
    "print(7//2) # truncated division -> cut after decimal point \n",
    "print(7%2) # modulo returns the remainder of the division"
   ]
  },
  {
   "cell_type": "code",
   "execution_count": 12,
   "metadata": {},
   "outputs": [
    {
     "name": "stdout",
     "output_type": "stream",
     "text": [
      "49\n"
     ]
    }
   ],
   "source": [
    "print(7**2) # Exponentiation"
   ]
  },
  {
   "cell_type": "markdown",
   "metadata": {},
   "source": [
    "**Precedence**: Python follows the normal rules of math when evaluting expression. We can use brackets to change this order. "
   ]
  },
  {
   "cell_type": "code",
   "execution_count": 13,
   "metadata": {},
   "outputs": [
    {
     "name": "stdout",
     "output_type": "stream",
     "text": [
      "14\n"
     ]
    }
   ],
   "source": [
    "a = 2 + 3 * 4\n",
    "print(a)"
   ]
  },
  {
   "cell_type": "code",
   "execution_count": 14,
   "metadata": {},
   "outputs": [
    {
     "name": "stdout",
     "output_type": "stream",
     "text": [
      "20\n"
     ]
    }
   ],
   "source": [
    "a = (2 + 3) * 4\n",
    "print(a)"
   ]
  },
  {
   "cell_type": "markdown",
   "metadata": {},
   "source": [
    "Python supports also the exponential notation, i.e., 1E+09 for 1,000,000,000."
   ]
  },
  {
   "cell_type": "code",
   "execution_count": 15,
   "metadata": {},
   "outputs": [
    {
     "name": "stdout",
     "output_type": "stream",
     "text": [
      "3000\n"
     ]
    }
   ],
   "source": [
    "print(int(3e3))"
   ]
  },
  {
   "cell_type": "markdown",
   "metadata": {},
   "source": [
    "# Numerical Functions"
   ]
  },
  {
   "cell_type": "markdown",
   "metadata": {},
   "source": [
    "Python provides some built-in functions for mathematical calculations. In the following, we have an exemplary overview."
   ]
  },
  {
   "cell_type": "code",
   "execution_count": 16,
   "metadata": {},
   "outputs": [
    {
     "name": "stdout",
     "output_type": "stream",
     "text": [
      "80\n",
      "80.26\n"
     ]
    }
   ],
   "source": [
    "a = 80.26456\n",
    "print(round(a)) # rounds with integer precision\n",
    "print(round(a,2)) # round(value,digit) - amount of numbers after decimal point can be defined"
   ]
  },
  {
   "cell_type": "code",
   "execution_count": 17,
   "metadata": {},
   "outputs": [
    {
     "name": "stdout",
     "output_type": "stream",
     "text": [
      "123\n"
     ]
    }
   ],
   "source": [
    "b = -123\n",
    "print(abs(b)) # abs(value) - returns the absolute value"
   ]
  },
  {
   "cell_type": "code",
   "execution_count": 18,
   "metadata": {},
   "outputs": [
    {
     "name": "stdout",
     "output_type": "stream",
     "text": [
      "32\n",
      "32\n"
     ]
    }
   ],
   "source": [
    "print(pow(2,5)) # pow(a,b) - returns Return the value of a to the power of b\n",
    "print(2**5) # equal result as pow()"
   ]
  },
  {
   "cell_type": "markdown",
   "metadata": {},
   "source": [
    "Another important category of mathematical functions is concerned with the transformation of numbers."
   ]
  },
  {
   "cell_type": "code",
   "execution_count": 19,
   "metadata": {},
   "outputs": [
    {
     "name": "stdout",
     "output_type": "stream",
     "text": [
      "230\n",
      "230.1234\n",
      "230.0\n"
     ]
    }
   ],
   "source": [
    "a = 230.1234\n",
    "print(int(a)) # conversion to integer\n",
    "print(a) # the variable 'a' is not changed by the int() function as it returns a new number\n",
    "print(float(int(a))) # conversion to float"
   ]
  },
  {
   "cell_type": "code",
   "execution_count": 20,
   "metadata": {},
   "outputs": [
    {
     "name": "stdout",
     "output_type": "stream",
     "text": [
      "0b1111011\n",
      "0o173\n",
      "0x7b\n"
     ]
    }
   ],
   "source": [
    "c = 123\n",
    "print(bin(c)) # bin(value) - proceeded by '0b'\n",
    "print(oct(c)) # oct(value) - proceeded by '0o'\n",
    "print(hex(c)) # hex(value) - proceeded by '0x'"
   ]
  },
  {
   "cell_type": "markdown",
   "metadata": {},
   "source": [
    "# String Functions"
   ]
  },
  {
   "cell_type": "markdown",
   "metadata": {},
   "source": [
    "Strings are immutable sequences of characters (text). These are inserted either in `\" \"` or `' '`. A double quote (`\" \"`) can contain single quote (`' '`), e.g., `\"'dog','cat'\"` in a string and vice versa."
   ]
  },
  {
   "cell_type": "code",
   "execution_count": 21,
   "metadata": {},
   "outputs": [
    {
     "name": "stdout",
     "output_type": "stream",
     "text": [
      "foodInformatics\n",
      "a\n"
     ]
    }
   ],
   "source": [
    "a = \"foodInformatics\"\n",
    "b = \"Rulez\"\n",
    "print(a) # 'a' is interpreted as variable\n",
    "print(\"a\") # 'a' is interpreted as text within a String"
   ]
  },
  {
   "cell_type": "markdown",
   "metadata": {},
   "source": [
    "Different Strings can be concatenated, i.e., connected with each other. "
   ]
  },
  {
   "cell_type": "code",
   "execution_count": 22,
   "metadata": {},
   "outputs": [
    {
     "name": "stdout",
     "output_type": "stream",
     "text": [
      "foodInformaticsRulez\n",
      "foodInformatics Rulez\n",
      "foodInformatics Rulez\n",
      "'foodInformatics'\n",
      "foodInformaticsfoodInformatics\n"
     ]
    }
   ],
   "source": [
    "print(a+b) # normal concatenation\n",
    "print(a+\" \"+b)  # concatenation with a space in between\n",
    "print(a,b) # the print() function supports a combination of strings with a comma\n",
    "print(\"'\"+a+\"'\") # Two Strings with ' are concatenated with String a\n",
    "print(2*a) # The same String can be concatenated several times"
   ]
  },
  {
   "cell_type": "code",
   "execution_count": 23,
   "metadata": {
    "scrolled": true
   },
   "outputs": [
    {
     "name": "stdout",
     "output_type": "stream",
     "text": [
      "foodInformatics\n",
      "foodInformatics is the future\n"
     ]
    }
   ],
   "source": [
    "print(a) # Strings are immutable, i.e., a String operation generates a new String...\n",
    "b = \"is the future\" #...still, the value of a variable can be overwritten\n",
    "print(a+\" \"+b) "
   ]
  },
  {
   "cell_type": "markdown",
   "metadata": {},
   "source": [
    "Combining Strings and numbers requires a conversion of the number, as Python cannot combine the different data types. However, Python does allow the following statement as the variable could contain a String."
   ]
  },
  {
   "cell_type": "code",
   "execution_count": 24,
   "metadata": {},
   "outputs": [
    {
     "ename": "TypeError",
     "evalue": "can only concatenate str (not \"int\") to str",
     "output_type": "error",
     "traceback": [
      "\u001b[1;31m---------------------------------------------------------------------------\u001b[0m",
      "\u001b[1;31mTypeError\u001b[0m                                 Traceback (most recent call last)",
      "\u001b[1;32m<ipython-input-24-f4aadc32b253>\u001b[0m in \u001b[0;36m<module>\u001b[1;34m\u001b[0m\n\u001b[0;32m      1\u001b[0m \u001b[0myears\u001b[0m \u001b[1;33m=\u001b[0m \u001b[1;36m33\u001b[0m\u001b[1;33m\u001b[0m\u001b[1;33m\u001b[0m\u001b[0m\n\u001b[1;32m----> 2\u001b[1;33m \u001b[0mprint\u001b[0m\u001b[1;33m(\u001b[0m\u001b[1;34m\"I am \"\u001b[0m \u001b[1;33m+\u001b[0m \u001b[0myears\u001b[0m \u001b[1;33m+\u001b[0m \u001b[1;34m\"old.\"\u001b[0m\u001b[1;33m)\u001b[0m \u001b[1;31m# results in an error.\u001b[0m\u001b[1;33m\u001b[0m\u001b[1;33m\u001b[0m\u001b[0m\n\u001b[0m",
      "\u001b[1;31mTypeError\u001b[0m: can only concatenate str (not \"int\") to str"
     ]
    }
   ],
   "source": [
    "years = 33\n",
    "print(\"I am \" + years + \"old.\") # results in an error."
   ]
  },
  {
   "cell_type": "code",
   "execution_count": 25,
   "metadata": {},
   "outputs": [
    {
     "name": "stdout",
     "output_type": "stream",
     "text": [
      "I am 33 old.\n"
     ]
    }
   ],
   "source": [
    "print(\"I am \" + str(years) + \" old.\") # str(x) - converts x to text"
   ]
  },
  {
   "cell_type": "markdown",
   "metadata": {},
   "source": [
    "A String is composed of several characters. This allows several operations to extract characters or parts of a String."
   ]
  },
  {
   "cell_type": "code",
   "execution_count": 26,
   "metadata": {},
   "outputs": [
    {
     "name": "stdout",
     "output_type": "stream",
     "text": [
      "oma\n"
     ]
    }
   ],
   "source": [
    "print(a[1] + a[9] + a[-5]) #string[x] - return the char at position x of a String"
   ]
  },
  {
   "cell_type": "code",
   "execution_count": 27,
   "metadata": {},
   "outputs": [
    {
     "name": "stdout",
     "output_type": "stream",
     "text": [
      "food\n",
      "foIfr\n",
      "scitamrofnIdoof\n"
     ]
    }
   ],
   "source": [
    "# string[start:end:step] - return a substring from position start (included) to position end (excluded;optional) in steps (optional)\n",
    "print(a[0:4]) # returns a substring from the first character to the fourth\n",
    "print(a[0:10:2]) # returns a substring from the first character to the tenth with every second character \n",
    "print(a[::-1]) # returns a reversed version of the string"
   ]
  },
  {
   "cell_type": "code",
   "execution_count": 28,
   "metadata": {},
   "outputs": [
    {
     "name": "stdout",
     "output_type": "stream",
     "text": [
      "food rmatics\n"
     ]
    }
   ],
   "source": [
    "# string.split(pattern) - splits the string on the pattern and returns a list with substrings\n",
    "x = a.split(\"Info\") # return the strings \"food\" and \"rmatics\"\n",
    "print(*x)"
   ]
  },
  {
   "cell_type": "markdown",
   "metadata": {},
   "source": [
    "Further, methods exist to find the positions of patterns, count their occurence, and to check how a string starts/ends. Those methods return `-1` if the pattern is not found in the String."
   ]
  },
  {
   "cell_type": "code",
   "execution_count": 29,
   "metadata": {},
   "outputs": [
    {
     "name": "stdout",
     "output_type": "stream",
     "text": [
      "4\n",
      "-1\n",
      "-1\n",
      "4\n"
     ]
    }
   ],
   "source": [
    "print(a.find(\"Info\")) # returns the index of the first occurence of the pattern String\n",
    "print(a.find(\"Info\",7)) # find pattern after the index (here:7)\n",
    "print(a.find(\"info\")) # again, this is case sensitive -> return -1 as pattern not found\n",
    "print(a.rfind(\"Info\")) # returns the index of the first occurence of the pattern String (from right)"
   ]
  },
  {
   "cell_type": "code",
   "execution_count": 30,
   "metadata": {},
   "outputs": [
    {
     "name": "stdout",
     "output_type": "stream",
     "text": [
      "1\n",
      "0\n"
     ]
    }
   ],
   "source": [
    "print(a.count(\"i\")) # counts how many times 'i' is present in the word\n",
    "print(a.count(\"x\")) # counts how many times 'x' is present in the word"
   ]
  },
  {
   "cell_type": "code",
   "execution_count": 31,
   "metadata": {},
   "outputs": [
    {
     "name": "stdout",
     "output_type": "stream",
     "text": [
      "True\n",
      "False\n",
      "True\n",
      "True\n"
     ]
    }
   ],
   "source": [
    "print(a.startswith(\"food\")) # checks, if the String starts with the pattern String\n",
    "print(a.startswith(\"Food\")) # again, this is case sensitive\n",
    "print(a.endswith(\"ics\")) # checks, if the String ends with the pattern String\n",
    "print(\"Info\" in a) # checks, if the String contains the pattern String"
   ]
  },
  {
   "cell_type": "markdown",
   "metadata": {},
   "source": [
    "Of course, it is also possible to change a String. Python provides several functions for this purpose."
   ]
  },
  {
   "cell_type": "code",
   "execution_count": 32,
   "metadata": {},
   "outputs": [
    {
     "name": "stdout",
     "output_type": "stream",
     "text": [
      "feedInformatics\n",
      "FOODINFORMATICS\n",
      "foodinformatics\n",
      "foodInformatics\n"
     ]
    }
   ],
   "source": [
    "print(a.replace(\"oo\",\"ee\")) # replace(a,b) - replaces pattern a with string b\n",
    "print(a.upper()) # capitalizes the word\n",
    "print(a.lower()) # transforms all characters to lowercase\n",
    "print(a) # again the remark: Strings are immutable -> all operations generate new Strings"
   ]
  },
  {
   "cell_type": "code",
   "execution_count": 33,
   "metadata": {},
   "outputs": [
    {
     "name": "stdout",
     "output_type": "stream",
     "text": [
      "foodinformatics\n",
      "foodinformatics   \n",
      "   foodinformatics\n"
     ]
    }
   ],
   "source": [
    "c = \"   foodinformatics   \"\n",
    "print(c.strip()) # removes leading and trailing white spaces\n",
    "print(c.lstrip()) # removes leading white spaces\n",
    "print(c.rstrip()) # removes trailing white spaces"
   ]
  },
  {
   "cell_type": "code",
   "execution_count": 34,
   "metadata": {},
   "outputs": [
    {
     "name": "stdout",
     "output_type": "stream",
     "text": [
      "foodinformatics--...\n",
      "foodinformatics--...--\n",
      "-----foodinformatics--...--\n"
     ]
    }
   ],
   "source": [
    "cnew = \"-----foodinformatics--...--\"\n",
    "print(cnew.strip(\"-\"))\n",
    "print(cnew.lstrip(\"-\"))\n",
    "print(cnew.strip(\".\"))"
   ]
  },
  {
   "cell_type": "markdown",
   "metadata": {},
   "source": [
    "Similar to many other elements, the `len(string)` function returns the size of a String, i.e., the number of characters."
   ]
  },
  {
   "cell_type": "code",
   "execution_count": 35,
   "metadata": {},
   "outputs": [
    {
     "name": "stdout",
     "output_type": "stream",
     "text": [
      "15\n"
     ]
    }
   ],
   "source": [
    "print(len(\"foodInformatics\"))"
   ]
  }
 ],
 "metadata": {
  "kernelspec": {
   "display_name": "Python 3",
   "language": "python",
   "name": "python3"
  },
  "language_info": {
   "codemirror_mode": {
    "name": "ipython",
    "version": 3
   },
   "file_extension": ".py",
   "mimetype": "text/x-python",
   "name": "python",
   "nbconvert_exporter": "python",
   "pygments_lexer": "ipython3",
   "version": "3.7.6"
  }
 },
 "nbformat": 4,
 "nbformat_minor": 4
}
