{
 "cells": [
  {
   "cell_type": "markdown",
   "metadata": {},
   "source": [
    "**Content**: This Jupyter notebook provides code examples for how to work with lists (Sect 2.3).\n",
    "\n",
    "**Remark on the use of the print() function:** Effects of assignments, operations, functions, etc. are not visible. Accordingly, we use the print() function to see effects in the following."
   ]
  },
  {
   "cell_type": "markdown",
   "metadata": {},
   "source": [
    "# Range Function"
   ]
  },
  {
   "cell_type": "markdown",
   "metadata": {},
   "source": [
    "The range function support the generation of lists with numbers. It is possible to control the generation and specify a distance between the numbers in the list."
   ]
  },
  {
   "cell_type": "code",
   "execution_count": 1,
   "metadata": {},
   "outputs": [
    {
     "name": "stdout",
     "output_type": "stream",
     "text": [
      "0 1 2 3 4 5 6 7 8 9\n",
      "5 6 7 8 9\n",
      "1 3 5 7 9\n",
      "10 7 4\n"
     ]
    }
   ],
   "source": [
    "example_range = range(10) # range(n) - creates a sequence of numbers from 0 to n-1\n",
    "print(*example_range) # Note: The asterisk is required for printing the sequence\n",
    "example_range = range(5,10) # range(a,b) - creates a sequence of numbers from a to b-1\n",
    "print(*example_range)\n",
    "example_range = range(1,10,2) # range(a,b,c) - creates a sequence of numbers from a to b-1 in steps of c\n",
    "print(*example_range)\n",
    "example_range = range(10,1,-3) # range(a,b,c) - creates a reversed sequence of numbers from a to b-1 in steps of c\n",
    "print(*example_range)"
   ]
  },
  {
   "cell_type": "markdown",
   "metadata": {},
   "source": [
    "# Lists Creation and Access of Elements"
   ]
  },
  {
   "cell_type": "markdown",
   "metadata": {},
   "source": [
    "List can store several elements simultaneously. Using the index `i`, it is possible to access the elements stored at position `i`."
   ]
  },
  {
   "cell_type": "code",
   "execution_count": 16,
   "metadata": {},
   "outputs": [
    {
     "name": "stdout",
     "output_type": "stream",
     "text": [
      "['150a', '150b', '150c', '150d']\n"
     ]
    }
   ],
   "source": [
    "fachgebiet = [\"150a\",\"150b\",\"150c\",\"150d\"] # list initialized with []\n",
    "print(fachgebiet)"
   ]
  },
  {
   "cell_type": "code",
   "execution_count": 17,
   "metadata": {
    "scrolled": true
   },
   "outputs": [
    {
     "name": "stdout",
     "output_type": "stream",
     "text": [
      "150a\n",
      "150d\n"
     ]
    },
    {
     "ename": "IndexError",
     "evalue": "list index out of range",
     "output_type": "error",
     "traceback": [
      "\u001b[1;31m---------------------------------------------------------------------------\u001b[0m",
      "\u001b[1;31mIndexError\u001b[0m                                Traceback (most recent call last)",
      "\u001b[1;32m<ipython-input-17-ba63ff5f34c2>\u001b[0m in \u001b[0;36m<module>\u001b[1;34m\u001b[0m\n\u001b[0;32m      1\u001b[0m \u001b[0mprint\u001b[0m\u001b[1;33m(\u001b[0m\u001b[0mfachgebiet\u001b[0m\u001b[1;33m[\u001b[0m\u001b[1;36m0\u001b[0m\u001b[1;33m]\u001b[0m\u001b[1;33m)\u001b[0m \u001b[1;31m# index is zero-based\u001b[0m\u001b[1;33m\u001b[0m\u001b[1;33m\u001b[0m\u001b[0m\n\u001b[0;32m      2\u001b[0m \u001b[0mprint\u001b[0m\u001b[1;33m(\u001b[0m\u001b[0mfachgebiet\u001b[0m\u001b[1;33m[\u001b[0m\u001b[1;33m-\u001b[0m\u001b[1;36m1\u001b[0m\u001b[1;33m]\u001b[0m\u001b[1;33m)\u001b[0m \u001b[1;31m# index can be reversed\u001b[0m\u001b[1;33m\u001b[0m\u001b[1;33m\u001b[0m\u001b[0m\n\u001b[1;32m----> 3\u001b[1;33m \u001b[0mprint\u001b[0m\u001b[1;33m(\u001b[0m\u001b[0mfachgebiet\u001b[0m\u001b[1;33m[\u001b[0m\u001b[1;36m4\u001b[0m\u001b[1;33m]\u001b[0m\u001b[1;33m)\u001b[0m \u001b[1;31m# index does not exist -> \"IndexError: list index out of range\"\u001b[0m\u001b[1;33m\u001b[0m\u001b[1;33m\u001b[0m\u001b[0m\n\u001b[0m",
      "\u001b[1;31mIndexError\u001b[0m: list index out of range"
     ]
    }
   ],
   "source": [
    "print(fachgebiet[0]) # index is zero-based\n",
    "print(fachgebiet[-1]) # index can be reversed\n",
    "print(fachgebiet[4]) # index does not exist -> \"IndexError: list index out of range\""
   ]
  },
  {
   "cell_type": "markdown",
   "metadata": {},
   "source": [
    "The `in` operator provides a function to check if a specific element is part of a list or not. `list.index(element)` returns the index of an element or an error (if element is not part of the list)."
   ]
  },
  {
   "cell_type": "code",
   "execution_count": 5,
   "metadata": {},
   "outputs": [
    {
     "name": "stdout",
     "output_type": "stream",
     "text": [
      "True\n",
      "False\n",
      "0\n"
     ]
    },
    {
     "ename": "ValueError",
     "evalue": "'150A' is not in list",
     "output_type": "error",
     "traceback": [
      "\u001b[1;31m---------------------------------------------------------------------------\u001b[0m",
      "\u001b[1;31mValueError\u001b[0m                                Traceback (most recent call last)",
      "\u001b[1;32m<ipython-input-5-9faf501b6331>\u001b[0m in \u001b[0;36m<module>\u001b[1;34m\u001b[0m\n\u001b[0;32m      3\u001b[0m \u001b[1;33m\u001b[0m\u001b[0m\n\u001b[0;32m      4\u001b[0m \u001b[0mprint\u001b[0m\u001b[1;33m(\u001b[0m\u001b[0mfachgebiet\u001b[0m\u001b[1;33m.\u001b[0m\u001b[0mindex\u001b[0m\u001b[1;33m(\u001b[0m\u001b[1;34m\"150a\"\u001b[0m\u001b[1;33m)\u001b[0m\u001b[1;33m)\u001b[0m\u001b[1;33m\u001b[0m\u001b[1;33m\u001b[0m\u001b[0m\n\u001b[1;32m----> 5\u001b[1;33m \u001b[0mprint\u001b[0m\u001b[1;33m(\u001b[0m\u001b[0mfachgebiet\u001b[0m\u001b[1;33m.\u001b[0m\u001b[0mindex\u001b[0m\u001b[1;33m(\u001b[0m\u001b[1;34m\"150A\"\u001b[0m\u001b[1;33m)\u001b[0m\u001b[1;33m)\u001b[0m \u001b[1;31m# throws an error, as not part of the list\u001b[0m\u001b[1;33m\u001b[0m\u001b[1;33m\u001b[0m\u001b[0m\n\u001b[0m",
      "\u001b[1;31mValueError\u001b[0m: '150A' is not in list"
     ]
    }
   ],
   "source": [
    "print(\"150a\" in fachgebiet)\n",
    "print(\"150A\" in fachgebiet) # again: case sensitive!\n",
    "\n",
    "print(fachgebiet.index(\"150a\"))\n",
    "print(fachgebiet.index(\"150A\")) # throws an error, as not part of the list"
   ]
  },
  {
   "cell_type": "markdown",
   "metadata": {},
   "source": [
    "A list can combine entries with different data types. Further, a list can contain several other lists."
   ]
  },
  {
   "cell_type": "code",
   "execution_count": 6,
   "metadata": {},
   "outputs": [
    {
     "name": "stdout",
     "output_type": "stream",
     "text": [
      "[['Tim', 20, [4, 'BSc-LB']], ['Lisa', 21, [6, 'BSc-LB']], ['Kim', 23, [2, 'MSc-FSE']]]\n"
     ]
    }
   ],
   "source": [
    "studentA = [\"Tim\",20,[4,\"BSc-LB\"]] # structure: name, age, semester, course of study\n",
    "studentB = [\"Lisa\",21,[6,\"BSc-LB\"]]\n",
    "studentC = [\"Kim\",23,[2,\"MSc-FSE\"]]\n",
    "students = [studentA,studentB,studentC]\n",
    "print(students)\n",
    "# Remark: Later, we will learn what an object is; more convenient for storing data."
   ]
  },
  {
   "cell_type": "markdown",
   "metadata": {},
   "source": [
    "# List slicing"
   ]
  },
  {
   "cell_type": "markdown",
   "metadata": {},
   "source": [
    "It is also possible to access several elements of a list simultaneously using `list[firstIndex:lastIndex]` with `firstIndex` (inclusive) - the first relevant position and `lastIndex` (exclusive) - the last position. one of both might be optional; in those cases the default values, i.e., the first element or the last element, respectively, are used. In general, a list is mutable, but the access operations do not change the list but rather return a new list."
   ]
  },
  {
   "cell_type": "code",
   "execution_count": 18,
   "metadata": {},
   "outputs": [
    {
     "name": "stdout",
     "output_type": "stream",
     "text": [
      "['150c', '150d']\n",
      "['150a', '150b']\n",
      "['150a', '150b', '150c', '150d']\n"
     ]
    }
   ],
   "source": [
    "fachgebiet = [\"150a\",\"150b\",\"150c\",\"150d\"] \n",
    "print(fachgebiet[2:]) # returns a new list with the elements from index 2 upwards\n",
    "print(fachgebiet[:-2]) # returns a new list with the elements up to the second list index\n",
    "print(fachgebiet) "
   ]
  },
  {
   "cell_type": "markdown",
   "metadata": {},
   "source": [
    "# Modifying a List"
   ]
  },
  {
   "cell_type": "markdown",
   "metadata": {},
   "source": [
    "Lists are mutable. Several operations supports changing, adding, and removing elements as well as changing the element order."
   ]
  },
  {
   "cell_type": "markdown",
   "metadata": {},
   "source": [
    "The operations `list.append(element)`, `list[index]=element`, and `list.insert(index,element)` changes or adds elements."
   ]
  },
  {
   "cell_type": "code",
   "execution_count": 7,
   "metadata": {},
   "outputs": [
    {
     "name": "stdout",
     "output_type": "stream",
     "text": [
      "['150a', '150b', '150c', '150d']\n",
      "['150a', '150b', '150c', '150d', '150l']\n",
      "['150a', '150b', '150c', '150d', 'Food Informatics']\n",
      "['150a', '150b', '150c', '150d', '150e', 'Food Informatics']\n"
     ]
    }
   ],
   "source": [
    "fachgebiet = [\"150a\",\"150b\",\"150c\",\"150d\"]\n",
    "print(fachgebiet) \n",
    "fachgebiet.append(\"150l\") # adds a new element to the list\n",
    "print(fachgebiet) \n",
    "fachgebiet[4] = \"Food Informatics\" # substitutes the element at the given index \n",
    "print(fachgebiet) \n",
    "fachgebiet.insert(4, \"150e\") # inserts an element at a given index; always needs two arguments\n",
    "print(fachgebiet) "
   ]
  },
  {
   "cell_type": "markdown",
   "metadata": {},
   "source": [
    "The operations `list.remove(element)`, `del list[index]`, and `list.pop(index)` deletes elements from a list."
   ]
  },
  {
   "cell_type": "code",
   "execution_count": 8,
   "metadata": {},
   "outputs": [
    {
     "name": "stdout",
     "output_type": "stream",
     "text": [
      "['150a', '150b', '150c', '150d']\n",
      "['150a', '150c', '150d']\n",
      "None\n",
      "['150a', '150c']\n",
      "150a\n",
      "['150c']\n"
     ]
    },
    {
     "ename": "IndexError",
     "evalue": "list assignment index out of range",
     "output_type": "error",
     "traceback": [
      "\u001b[1;31m---------------------------------------------------------------------------\u001b[0m",
      "\u001b[1;31mIndexError\u001b[0m                                Traceback (most recent call last)",
      "\u001b[1;32m<ipython-input-8-5756e1cb46bc>\u001b[0m in \u001b[0;36m<module>\u001b[1;34m\u001b[0m\n\u001b[0;32m      7\u001b[0m \u001b[0mprint\u001b[0m\u001b[1;33m(\u001b[0m\u001b[0mfachgebiet\u001b[0m\u001b[1;33m.\u001b[0m\u001b[0mpop\u001b[0m\u001b[1;33m(\u001b[0m\u001b[1;36m0\u001b[0m\u001b[1;33m)\u001b[0m\u001b[1;33m)\u001b[0m \u001b[1;31m# removes the element at given index, returns the element\u001b[0m\u001b[1;33m\u001b[0m\u001b[1;33m\u001b[0m\u001b[0m\n\u001b[0;32m      8\u001b[0m \u001b[0mprint\u001b[0m\u001b[1;33m(\u001b[0m\u001b[0mfachgebiet\u001b[0m\u001b[1;33m)\u001b[0m\u001b[1;33m\u001b[0m\u001b[1;33m\u001b[0m\u001b[0m\n\u001b[1;32m----> 9\u001b[1;33m \u001b[1;32mdel\u001b[0m \u001b[0mfachgebiet\u001b[0m\u001b[1;33m[\u001b[0m\u001b[1;36m7\u001b[0m\u001b[1;33m]\u001b[0m \u001b[1;31m# error, as index does not exist\u001b[0m\u001b[1;33m\u001b[0m\u001b[1;33m\u001b[0m\u001b[0m\n\u001b[0m\u001b[0;32m     10\u001b[0m \u001b[0mfachgebiet\u001b[0m\u001b[1;33m.\u001b[0m\u001b[0mremove\u001b[0m\u001b[1;33m(\u001b[0m\u001b[1;34m\"150l\"\u001b[0m\u001b[1;33m)\u001b[0m \u001b[1;31m# error, as element does not exist\u001b[0m\u001b[1;33m\u001b[0m\u001b[1;33m\u001b[0m\u001b[0m\n",
      "\u001b[1;31mIndexError\u001b[0m: list assignment index out of range"
     ]
    }
   ],
   "source": [
    "fachgebiet = [\"150a\",\"150b\",\"150c\",\"150d\"]\n",
    "print(fachgebiet) \n",
    "del fachgebiet[1] # removes the element at the given position\n",
    "print(fachgebiet)\n",
    "print(fachgebiet.remove(\"150d\")) # removes the specified element\n",
    "print(fachgebiet)\n",
    "print(fachgebiet.pop(0)) # removes the element at given index, returns the element\n",
    "print(fachgebiet)\n",
    "del fachgebiet[7] # error, as index does not exist\n",
    "fachgebiet.remove(\"150l\") # error, as element does not exist"
   ]
  },
  {
   "cell_type": "markdown",
   "metadata": {},
   "source": [
    "The `sort`operation sorts the elements of a list in-place, i.e., in the variable itself."
   ]
  },
  {
   "cell_type": "code",
   "execution_count": 9,
   "metadata": {},
   "outputs": [
    {
     "name": "stdout",
     "output_type": "stream",
     "text": [
      "['Christian', 'Elia', 'Aine', 'Tanja']\n",
      "['Aine', 'Christian', 'Elia', 'Tanja']\n",
      "['Tanja', 'Elia', 'Christian', 'Aine']\n"
     ]
    }
   ],
   "source": [
    "fachgebiet = [\"Christian\",\"Elia\",\"Aine\",\"Tanja\"]\n",
    "print(fachgebiet) \n",
    "fachgebiet.sort() # sorts in-place and changes the original list\n",
    "print(fachgebiet) \n",
    "fachgebiet.sort(reverse = True) # can also sort reversely\n",
    "print(fachgebiet) "
   ]
  },
  {
   "cell_type": "markdown",
   "metadata": {},
   "source": [
    "In contrast to the `sort`operation, the `sorted`function does not sort in-place, but returns a new list which is sorted. The `sorted`function can be used with many other data structures; the  `sort`function is specific for a list."
   ]
  },
  {
   "cell_type": "code",
   "execution_count": 10,
   "metadata": {},
   "outputs": [
    {
     "name": "stdout",
     "output_type": "stream",
     "text": [
      "['Christian', 'Elia', 'Aine', 'Tanja']\n",
      "['Christian', 'Elia', 'Aine', 'Tanja']\n",
      "['Aine', 'Christian', 'Elia', 'Tanja']\n"
     ]
    }
   ],
   "source": [
    "fachgebiet = [\"Christian\",\"Elia\",\"Aine\",\"Tanja\"]\n",
    "print(fachgebiet) \n",
    "sorted(fachgebiet) #returns a sorted list...\n",
    "print(fachgebiet) # ... without changing the original list\n",
    "print(sorted(fachgebiet)) # the returned list will be printed here"
   ]
  },
  {
   "cell_type": "markdown",
   "metadata": {},
   "source": [
    "# Modifying a List with another List"
   ]
  },
  {
   "cell_type": "markdown",
   "metadata": {},
   "source": [
    "It is also possible to modify a list with the content of another list (rather than just a single element)."
   ]
  },
  {
   "cell_type": "code",
   "execution_count": 11,
   "metadata": {},
   "outputs": [
    {
     "name": "stdout",
     "output_type": "stream",
     "text": [
      "[1, 2, 3]\n",
      "['a', 'b', 'c']\n",
      "[1, 2, 3, ['a', 'b', 'c']]\n",
      "[1, 2, 3, 'a', 'b', 'c']\n"
     ]
    }
   ],
   "source": [
    "number_list = [1,2,3]\n",
    "print(number_list)\n",
    "\n",
    "letter_list = ['a','b','c']\n",
    "print(letter_list)\n",
    "\n",
    "copy_number_list = number_list[:] # number_list[:] returns a copy number_list\n",
    "#Note: copy_number_list = number_list is not the same as copy_number_list = number_list[:]!!!\n",
    "number_list.append(letter_list) # adds letter_list as an element (in this case a list) at the end\n",
    "print(number_list)\n",
    "copy_number_list.extend(letter_list) # adds the items to the end of an existing list\n",
    "print(copy_number_list)"
   ]
  },
  {
   "cell_type": "code",
   "execution_count": 12,
   "metadata": {},
   "outputs": [
    {
     "name": "stdout",
     "output_type": "stream",
     "text": [
      "[1, 2, 3, 4, 5, 6, 7]\n",
      "[-2, -1, 0, 1, 2, 3, 4, 5, 6, 7]\n",
      "[-2, 7]\n",
      "[-2, 9, 5, 7, 2, 7]\n"
     ]
    }
   ],
   "source": [
    "x=[1,2,3] # let’s append a new list to the end of this list\n",
    "x[len(x):] = [4, 5, 6, 7] # find the length; append after last index \n",
    "print(x)\n",
    "\n",
    "x[ :0] = [-2, -1, 0] # append this list to the front of the original list\n",
    "print(x)\n",
    "\n",
    "x[1:-1] = [] # removes elements between the 2nd and one before the last index\n",
    "print(x)\n",
    "x[1:-1] = [9,5,7,2] # adds the specified elements between the 2nd and one before the last index\n",
    "print(x)"
   ]
  },
  {
   "cell_type": "code",
   "execution_count": 13,
   "metadata": {},
   "outputs": [
    {
     "name": "stdout",
     "output_type": "stream",
     "text": [
      "[1, 2, 3, 4, 5, 6]\n",
      "[1, 2, 3, 1, 2, 3, 1, 2, 3]\n"
     ]
    }
   ],
   "source": [
    "x=[1,2,3]\n",
    "y=x+[4,5,6] #concatenation with the + character\n",
    "print(y)\n",
    "\n",
    "x=[1,2,3]\n",
    "y=x*3 #concatenation with the * character -> Adds list x multiple times\n",
    "print(y)"
   ]
  },
  {
   "cell_type": "markdown",
   "metadata": {},
   "source": [
    "# Information about a List"
   ]
  },
  {
   "cell_type": "markdown",
   "metadata": {},
   "source": [
    "Several operations provide information about the list, such as min/max values, counting the occurence of an element, or the length of a list. "
   ]
  },
  {
   "cell_type": "code",
   "execution_count": 14,
   "metadata": {},
   "outputs": [
    {
     "name": "stdout",
     "output_type": "stream",
     "text": [
      "[4, 1, 2, 6, 3, 8, 3, 2, 5, 3]\n",
      "1\n",
      "8\n",
      "10\n",
      "['a', 'b', 'c', 'y', 'c', 'a', 'd', 'b']\n",
      "a\n",
      "y\n",
      "8\n",
      "2\n"
     ]
    }
   ],
   "source": [
    "number_list = [4,1,2,6,3,8,3,2,5,3]\n",
    "print(number_list)\n",
    "print(min(number_list))\n",
    "print(max(number_list))\n",
    "print(len(number_list))\n",
    "\n",
    "letter_list = ['a','b','c','y','c','a','d','b']\n",
    "print(letter_list)\n",
    "print(min(letter_list))\n",
    "print(max(letter_list))\n",
    "print(len(letter_list))\n",
    "print(letter_list.count('c'))"
   ]
  }
 ],
 "metadata": {
  "kernelspec": {
   "display_name": "Python 3",
   "language": "python",
   "name": "python3"
  },
  "language_info": {
   "codemirror_mode": {
    "name": "ipython",
    "version": 3
   },
   "file_extension": ".py",
   "mimetype": "text/x-python",
   "name": "python",
   "nbconvert_exporter": "python",
   "pygments_lexer": "ipython3",
   "version": "3.7.6"
  }
 },
 "nbformat": 4,
 "nbformat_minor": 4
}
